{
 "cells": [
  {
   "cell_type": "code",
   "execution_count": 1,
   "id": "288f7af7",
   "metadata": {},
   "outputs": [],
   "source": [
    "import pandas as pd\n",
    "import openpyxl"
   ]
  },
  {
   "cell_type": "code",
   "execution_count": 2,
   "id": "2ad07733",
   "metadata": {},
   "outputs": [],
   "source": [
    "file_path1 = r\"C:\\Users\\ShannonKnight\\OneDrive - PPO Serve\\Documents\\ironhack\\Week 3\\project_1\\data\\raw\\master_patient_data.xlsx\"\n",
    "master_patient = pd.read_excel(file_path1)"
   ]
  },
  {
   "cell_type": "code",
   "execution_count": 3,
   "id": "576f0f0f",
   "metadata": {},
   "outputs": [
    {
     "data": {
      "text/html": [
       "<div>\n",
       "<style scoped>\n",
       "    .dataframe tbody tr th:only-of-type {\n",
       "        vertical-align: middle;\n",
       "    }\n",
       "\n",
       "    .dataframe tbody tr th {\n",
       "        vertical-align: top;\n",
       "    }\n",
       "\n",
       "    .dataframe thead th {\n",
       "        text-align: right;\n",
       "    }\n",
       "</style>\n",
       "<table border=\"1\" class=\"dataframe\">\n",
       "  <thead>\n",
       "    <tr style=\"text-align: right;\">\n",
       "      <th></th>\n",
       "      <th>information_date</th>\n",
       "      <th>recordtype</th>\n",
       "      <th>popid</th>\n",
       "      <th>national_id</th>\n",
       "      <th>date_of_birth</th>\n",
       "      <th>age_band</th>\n",
       "      <th>gender</th>\n",
       "      <th>chron_count</th>\n",
       "      <th>plan_type</th>\n",
       "      <th>member_number</th>\n",
       "      <th>...</th>\n",
       "      <th>enrollment_flag</th>\n",
       "      <th>unenrolment_flag</th>\n",
       "      <th>opt_out_flag</th>\n",
       "      <th>attribution_flag</th>\n",
       "      <th>exclusions_flag</th>\n",
       "      <th>rule__enrol_unerol</th>\n",
       "      <th>member_age</th>\n",
       "      <th>username</th>\n",
       "      <th>tariff_code</th>\n",
       "      <th>global_fee</th>\n",
       "    </tr>\n",
       "  </thead>\n",
       "  <tbody>\n",
       "    <tr>\n",
       "      <th>0</th>\n",
       "      <td>45319</td>\n",
       "      <td>2</td>\n",
       "      <td>GEMS00000000000</td>\n",
       "      <td>9707260803086</td>\n",
       "      <td>35637</td>\n",
       "      <td>25 to 29</td>\n",
       "      <td>F</td>\n",
       "      <td>NaN</td>\n",
       "      <td>Emerald Value</td>\n",
       "      <td>0</td>\n",
       "      <td>...</td>\n",
       "      <td>Y</td>\n",
       "      <td>N</td>\n",
       "      <td>N</td>\n",
       "      <td>N</td>\n",
       "      <td>Y</td>\n",
       "      <td>N</td>\n",
       "      <td>26</td>\n",
       "      <td>NaN</td>\n",
       "      <td>989049</td>\n",
       "      <td>154.02</td>\n",
       "    </tr>\n",
       "    <tr>\n",
       "      <th>1</th>\n",
       "      <td>45319</td>\n",
       "      <td>2</td>\n",
       "      <td>GEMS00000015701</td>\n",
       "      <td>9109020586087</td>\n",
       "      <td>33483</td>\n",
       "      <td>30 to 34</td>\n",
       "      <td>F</td>\n",
       "      <td>NaN</td>\n",
       "      <td>Tanzanite One</td>\n",
       "      <td>157</td>\n",
       "      <td>...</td>\n",
       "      <td>Y</td>\n",
       "      <td>N</td>\n",
       "      <td>N</td>\n",
       "      <td>N</td>\n",
       "      <td>N</td>\n",
       "      <td>Y</td>\n",
       "      <td>32</td>\n",
       "      <td>NaN</td>\n",
       "      <td>989058</td>\n",
       "      <td>180.00</td>\n",
       "    </tr>\n",
       "    <tr>\n",
       "      <th>2</th>\n",
       "      <td>45319</td>\n",
       "      <td>2</td>\n",
       "      <td>GEMS00000021100</td>\n",
       "      <td>NaN</td>\n",
       "      <td>29016</td>\n",
       "      <td>40 to 44</td>\n",
       "      <td>M</td>\n",
       "      <td>2</td>\n",
       "      <td>Emerald Value</td>\n",
       "      <td>211</td>\n",
       "      <td>...</td>\n",
       "      <td>N</td>\n",
       "      <td>Y</td>\n",
       "      <td>N</td>\n",
       "      <td>Y</td>\n",
       "      <td>N</td>\n",
       "      <td>N</td>\n",
       "      <td>44</td>\n",
       "      <td>NaN</td>\n",
       "      <td>989077</td>\n",
       "      <td>114.47</td>\n",
       "    </tr>\n",
       "    <tr>\n",
       "      <th>3</th>\n",
       "      <td>45319</td>\n",
       "      <td>2</td>\n",
       "      <td>GEMS00000021105</td>\n",
       "      <td>EN020386</td>\n",
       "      <td>16960</td>\n",
       "      <td>70 to 74</td>\n",
       "      <td>F</td>\n",
       "      <td>1</td>\n",
       "      <td>Emerald Value</td>\n",
       "      <td>211</td>\n",
       "      <td>...</td>\n",
       "      <td>N</td>\n",
       "      <td>Y</td>\n",
       "      <td>N</td>\n",
       "      <td>Y</td>\n",
       "      <td>N</td>\n",
       "      <td>N</td>\n",
       "      <td>77</td>\n",
       "      <td>NaN</td>\n",
       "      <td>989132</td>\n",
       "      <td>162.93</td>\n",
       "    </tr>\n",
       "    <tr>\n",
       "      <th>4</th>\n",
       "      <td>45319</td>\n",
       "      <td>2</td>\n",
       "      <td>GEMS00000021503</td>\n",
       "      <td>NaN</td>\n",
       "      <td>17434</td>\n",
       "      <td>75 to 79</td>\n",
       "      <td>M</td>\n",
       "      <td>1</td>\n",
       "      <td>Emerald</td>\n",
       "      <td>215</td>\n",
       "      <td>...</td>\n",
       "      <td>N</td>\n",
       "      <td>N</td>\n",
       "      <td>N</td>\n",
       "      <td>Y</td>\n",
       "      <td>N</td>\n",
       "      <td>N</td>\n",
       "      <td>76</td>\n",
       "      <td>NaN</td>\n",
       "      <td>989136</td>\n",
       "      <td>159.76</td>\n",
       "    </tr>\n",
       "  </tbody>\n",
       "</table>\n",
       "<p>5 rows × 52 columns</p>\n",
       "</div>"
      ],
      "text/plain": [
       "   information_date  recordtype            popid    national_id  \\\n",
       "0             45319           2  GEMS00000000000  9707260803086   \n",
       "1             45319           2  GEMS00000015701  9109020586087   \n",
       "2             45319           2  GEMS00000021100            NaN   \n",
       "3             45319           2  GEMS00000021105       EN020386   \n",
       "4             45319           2  GEMS00000021503            NaN   \n",
       "\n",
       "   date_of_birth  age_band gender chron_count      plan_type  member_number  \\\n",
       "0          35637  25 to 29      F         NaN  Emerald Value              0   \n",
       "1          33483  30 to 34      F         NaN  Tanzanite One            157   \n",
       "2          29016  40 to 44      M           2  Emerald Value            211   \n",
       "3          16960  70 to 74      F           1  Emerald Value            211   \n",
       "4          17434  75 to 79      M           1        Emerald            215   \n",
       "\n",
       "   ...  enrollment_flag unenrolment_flag  opt_out_flag  attribution_flag  \\\n",
       "0  ...                Y                N             N                 N   \n",
       "1  ...                Y                N             N                 N   \n",
       "2  ...                N                Y             N                 Y   \n",
       "3  ...                N                Y             N                 Y   \n",
       "4  ...                N                N             N                 Y   \n",
       "\n",
       "  exclusions_flag  rule__enrol_unerol  member_age  username  tariff_code  \\\n",
       "0               Y                   N          26       NaN       989049   \n",
       "1               N                   Y          32       NaN       989058   \n",
       "2               N                   N          44       NaN       989077   \n",
       "3               N                   N          77       NaN       989132   \n",
       "4               N                   N          76       NaN       989136   \n",
       "\n",
       "  global_fee  \n",
       "0     154.02  \n",
       "1     180.00  \n",
       "2     114.47  \n",
       "3     162.93  \n",
       "4     159.76  \n",
       "\n",
       "[5 rows x 52 columns]"
      ]
     },
     "execution_count": 3,
     "metadata": {},
     "output_type": "execute_result"
    }
   ],
   "source": [
    "master_patient.head()"
   ]
  },
  {
   "cell_type": "code",
   "execution_count": 4,
   "id": "e022f6d9",
   "metadata": {},
   "outputs": [
    {
     "data": {
      "text/html": [
       "<div>\n",
       "<style scoped>\n",
       "    .dataframe tbody tr th:only-of-type {\n",
       "        vertical-align: middle;\n",
       "    }\n",
       "\n",
       "    .dataframe tbody tr th {\n",
       "        vertical-align: top;\n",
       "    }\n",
       "\n",
       "    .dataframe thead th {\n",
       "        text-align: right;\n",
       "    }\n",
       "</style>\n",
       "<table border=\"1\" class=\"dataframe\">\n",
       "  <thead>\n",
       "    <tr style=\"text-align: right;\">\n",
       "      <th></th>\n",
       "      <th>information_date</th>\n",
       "      <th>recordtype</th>\n",
       "      <th>popid</th>\n",
       "      <th>national_id</th>\n",
       "      <th>date_of_birth</th>\n",
       "      <th>age_band</th>\n",
       "      <th>gender</th>\n",
       "      <th>chron_count</th>\n",
       "      <th>plan_type</th>\n",
       "      <th>member_number</th>\n",
       "      <th>...</th>\n",
       "      <th>enrollment_flag</th>\n",
       "      <th>unenrolment_flag</th>\n",
       "      <th>opt_out_flag</th>\n",
       "      <th>attribution_flag</th>\n",
       "      <th>exclusions_flag</th>\n",
       "      <th>rule__enrol_unerol</th>\n",
       "      <th>member_age</th>\n",
       "      <th>username</th>\n",
       "      <th>tariff_code</th>\n",
       "      <th>global_fee</th>\n",
       "    </tr>\n",
       "  </thead>\n",
       "  <tbody>\n",
       "    <tr>\n",
       "      <th>135222</th>\n",
       "      <td>45319</td>\n",
       "      <td>2</td>\n",
       "      <td>GEMS76791275901</td>\n",
       "      <td>1204250433080</td>\n",
       "      <td>41024</td>\n",
       "      <td>10 to 14</td>\n",
       "      <td>F</td>\n",
       "      <td>NaN</td>\n",
       "      <td>Emerald</td>\n",
       "      <td>767912759</td>\n",
       "      <td>...</td>\n",
       "      <td>Y</td>\n",
       "      <td>N</td>\n",
       "      <td>N</td>\n",
       "      <td>N</td>\n",
       "      <td>N</td>\n",
       "      <td>Y</td>\n",
       "      <td>11</td>\n",
       "      <td>NaN</td>\n",
       "      <td>989026</td>\n",
       "      <td>114.61</td>\n",
       "    </tr>\n",
       "    <tr>\n",
       "      <th>135223</th>\n",
       "      <td>45319</td>\n",
       "      <td>2</td>\n",
       "      <td>GEMS79319587402</td>\n",
       "      <td>2312060827083</td>\n",
       "      <td>45266</td>\n",
       "      <td>Less than 1</td>\n",
       "      <td>F</td>\n",
       "      <td>NaN</td>\n",
       "      <td>Ruby</td>\n",
       "      <td>793195874</td>\n",
       "      <td>...</td>\n",
       "      <td>Y</td>\n",
       "      <td>N</td>\n",
       "      <td>N</td>\n",
       "      <td>N</td>\n",
       "      <td>N</td>\n",
       "      <td>Y</td>\n",
       "      <td>0</td>\n",
       "      <td>NaN</td>\n",
       "      <td>989003</td>\n",
       "      <td>0.00</td>\n",
       "    </tr>\n",
       "    <tr>\n",
       "      <th>135224</th>\n",
       "      <td>45319</td>\n",
       "      <td>2</td>\n",
       "      <td>GEMS82344748300</td>\n",
       "      <td>7611265601085</td>\n",
       "      <td>28089</td>\n",
       "      <td>45 to 49</td>\n",
       "      <td>M</td>\n",
       "      <td>NaN</td>\n",
       "      <td>Ruby</td>\n",
       "      <td>823447483</td>\n",
       "      <td>...</td>\n",
       "      <td>Y</td>\n",
       "      <td>N</td>\n",
       "      <td>N</td>\n",
       "      <td>N</td>\n",
       "      <td>N</td>\n",
       "      <td>Y</td>\n",
       "      <td>47</td>\n",
       "      <td>NaN</td>\n",
       "      <td>989085</td>\n",
       "      <td>120.37</td>\n",
       "    </tr>\n",
       "    <tr>\n",
       "      <th>135225</th>\n",
       "      <td>45319</td>\n",
       "      <td>2</td>\n",
       "      <td>GEMS83431707504</td>\n",
       "      <td>1802210592083</td>\n",
       "      <td>43152</td>\n",
       "      <td>5 to 9</td>\n",
       "      <td>F</td>\n",
       "      <td>NaN</td>\n",
       "      <td>Emerald</td>\n",
       "      <td>834317075</td>\n",
       "      <td>...</td>\n",
       "      <td>Y</td>\n",
       "      <td>N</td>\n",
       "      <td>N</td>\n",
       "      <td>N</td>\n",
       "      <td>N</td>\n",
       "      <td>Y</td>\n",
       "      <td>5</td>\n",
       "      <td>NaN</td>\n",
       "      <td>989020</td>\n",
       "      <td>128.69</td>\n",
       "    </tr>\n",
       "    <tr>\n",
       "      <th>135226</th>\n",
       "      <td>45319</td>\n",
       "      <td>2</td>\n",
       "      <td>GEMS84312751700</td>\n",
       "      <td>5204260750081</td>\n",
       "      <td>19110</td>\n",
       "      <td>70 to 74</td>\n",
       "      <td>F</td>\n",
       "      <td>NaN</td>\n",
       "      <td>Beryl</td>\n",
       "      <td>843127517</td>\n",
       "      <td>...</td>\n",
       "      <td>Y</td>\n",
       "      <td>N</td>\n",
       "      <td>N</td>\n",
       "      <td>N</td>\n",
       "      <td>N</td>\n",
       "      <td>Y</td>\n",
       "      <td>71</td>\n",
       "      <td>NaN</td>\n",
       "      <td>989121</td>\n",
       "      <td>94.64</td>\n",
       "    </tr>\n",
       "  </tbody>\n",
       "</table>\n",
       "<p>5 rows × 52 columns</p>\n",
       "</div>"
      ],
      "text/plain": [
       "        information_date  recordtype            popid    national_id  \\\n",
       "135222             45319           2  GEMS76791275901  1204250433080   \n",
       "135223             45319           2  GEMS79319587402  2312060827083   \n",
       "135224             45319           2  GEMS82344748300  7611265601085   \n",
       "135225             45319           2  GEMS83431707504  1802210592083   \n",
       "135226             45319           2  GEMS84312751700  5204260750081   \n",
       "\n",
       "        date_of_birth     age_band gender chron_count plan_type  \\\n",
       "135222          41024     10 to 14      F         NaN   Emerald   \n",
       "135223          45266  Less than 1      F         NaN      Ruby   \n",
       "135224          28089     45 to 49      M         NaN      Ruby   \n",
       "135225          43152       5 to 9      F         NaN   Emerald   \n",
       "135226          19110     70 to 74      F         NaN     Beryl   \n",
       "\n",
       "        member_number  ...  enrollment_flag unenrolment_flag  opt_out_flag  \\\n",
       "135222      767912759  ...                Y                N             N   \n",
       "135223      793195874  ...                Y                N             N   \n",
       "135224      823447483  ...                Y                N             N   \n",
       "135225      834317075  ...                Y                N             N   \n",
       "135226      843127517  ...                Y                N             N   \n",
       "\n",
       "        attribution_flag exclusions_flag  rule__enrol_unerol  member_age  \\\n",
       "135222                 N               N                   Y          11   \n",
       "135223                 N               N                   Y           0   \n",
       "135224                 N               N                   Y          47   \n",
       "135225                 N               N                   Y           5   \n",
       "135226                 N               N                   Y          71   \n",
       "\n",
       "        username  tariff_code global_fee  \n",
       "135222       NaN       989026     114.61  \n",
       "135223       NaN       989003       0.00  \n",
       "135224       NaN       989085     120.37  \n",
       "135225       NaN       989020     128.69  \n",
       "135226       NaN       989121      94.64  \n",
       "\n",
       "[5 rows x 52 columns]"
      ]
     },
     "execution_count": 4,
     "metadata": {},
     "output_type": "execute_result"
    }
   ],
   "source": [
    "master_patient.tail()"
   ]
  },
  {
   "cell_type": "code",
   "execution_count": 5,
   "id": "07b983a8",
   "metadata": {},
   "outputs": [],
   "source": [
    "file_path2 = r\"C:\\Users\\ShannonKnight\\OneDrive - PPO Serve\\Documents\\ironhack\\Week 3\\project_1\\data\\raw\\ppo_consortprov_240215_143000.xlsx\"\n",
    "provider = pd.read_excel(file_path2)"
   ]
  },
  {
   "cell_type": "code",
   "execution_count": 6,
   "id": "a78244e5",
   "metadata": {},
   "outputs": [
    {
     "data": {
      "text/html": [
       "<div>\n",
       "<style scoped>\n",
       "    .dataframe tbody tr th:only-of-type {\n",
       "        vertical-align: middle;\n",
       "    }\n",
       "\n",
       "    .dataframe tbody tr th {\n",
       "        vertical-align: top;\n",
       "    }\n",
       "\n",
       "    .dataframe thead th {\n",
       "        text-align: right;\n",
       "    }\n",
       "</style>\n",
       "<table border=\"1\" class=\"dataframe\">\n",
       "  <thead>\n",
       "    <tr style=\"text-align: right;\">\n",
       "      <th></th>\n",
       "      <th>sequenceNumber</th>\n",
       "      <th>recordType</th>\n",
       "      <th>ICC_Name</th>\n",
       "      <th>Provider_Name</th>\n",
       "      <th>Practice_number</th>\n",
       "      <th>Discipline</th>\n",
       "      <th>Start_Date</th>\n",
       "      <th>End_Date</th>\n",
       "      <th>Include in query</th>\n",
       "    </tr>\n",
       "  </thead>\n",
       "  <tbody>\n",
       "    <tr>\n",
       "      <th>0</th>\n",
       "      <td>2</td>\n",
       "      <td>2</td>\n",
       "      <td>Pretoria North ICC</td>\n",
       "      <td>Dr JIL Van Niekerk</td>\n",
       "      <td>1568329</td>\n",
       "      <td>14</td>\n",
       "      <td>20190101</td>\n",
       "      <td>NaN</td>\n",
       "      <td>1</td>\n",
       "    </tr>\n",
       "    <tr>\n",
       "      <th>1</th>\n",
       "      <td>4</td>\n",
       "      <td>2</td>\n",
       "      <td>Pretoria North ICC</td>\n",
       "      <td>Dr Brink</td>\n",
       "      <td>670693</td>\n",
       "      <td>14</td>\n",
       "      <td>20190101</td>\n",
       "      <td>NaN</td>\n",
       "      <td>1</td>\n",
       "    </tr>\n",
       "    <tr>\n",
       "      <th>2</th>\n",
       "      <td>5</td>\n",
       "      <td>2</td>\n",
       "      <td>Pretoria North ICC</td>\n",
       "      <td>Dr Rudi Greyling</td>\n",
       "      <td>33952</td>\n",
       "      <td>14</td>\n",
       "      <td>20190101</td>\n",
       "      <td>NaN</td>\n",
       "      <td>1</td>\n",
       "    </tr>\n",
       "    <tr>\n",
       "      <th>3</th>\n",
       "      <td>6</td>\n",
       "      <td>2</td>\n",
       "      <td>Pretoria North ICC</td>\n",
       "      <td>Dr Angeliqe Coetzee</td>\n",
       "      <td>1489755</td>\n",
       "      <td>14</td>\n",
       "      <td>20190101</td>\n",
       "      <td>NaN</td>\n",
       "      <td>1</td>\n",
       "    </tr>\n",
       "    <tr>\n",
       "      <th>4</th>\n",
       "      <td>7</td>\n",
       "      <td>2</td>\n",
       "      <td>Pretoria North ICC</td>\n",
       "      <td>Dr La Cock</td>\n",
       "      <td>469351</td>\n",
       "      <td>14</td>\n",
       "      <td>20190101</td>\n",
       "      <td>NaN</td>\n",
       "      <td>1</td>\n",
       "    </tr>\n",
       "  </tbody>\n",
       "</table>\n",
       "</div>"
      ],
      "text/plain": [
       "   sequenceNumber  recordType            ICC_Name        Provider_Name  \\\n",
       "0               2           2  Pretoria North ICC   Dr JIL Van Niekerk   \n",
       "1               4           2  Pretoria North ICC             Dr Brink   \n",
       "2               5           2  Pretoria North ICC     Dr Rudi Greyling   \n",
       "3               6           2  Pretoria North ICC  Dr Angeliqe Coetzee   \n",
       "4               7           2  Pretoria North ICC           Dr La Cock   \n",
       "\n",
       "   Practice_number  Discipline  Start_Date  End_Date  Include in query  \n",
       "0          1568329          14    20190101       NaN                 1  \n",
       "1           670693          14    20190101       NaN                 1  \n",
       "2            33952          14    20190101       NaN                 1  \n",
       "3          1489755          14    20190101       NaN                 1  \n",
       "4           469351          14    20190101       NaN                 1  "
      ]
     },
     "execution_count": 6,
     "metadata": {},
     "output_type": "execute_result"
    }
   ],
   "source": [
    "provider.head()"
   ]
  },
  {
   "cell_type": "code",
   "execution_count": 7,
   "id": "6e2046b3",
   "metadata": {},
   "outputs": [
    {
     "data": {
      "text/plain": [
       "(135227, 52)"
      ]
     },
     "execution_count": 7,
     "metadata": {},
     "output_type": "execute_result"
    }
   ],
   "source": [
    "master_patient.shape"
   ]
  },
  {
   "cell_type": "code",
   "execution_count": 8,
   "id": "68d2f6b8",
   "metadata": {},
   "outputs": [
    {
     "data": {
      "text/plain": [
       "Index(['information_date', 'recordtype', 'popid', 'national_id',\n",
       "       'date_of_birth', 'age_band', 'gender', 'chron_count', 'plan_type',\n",
       "       'member_number', 'dependent_number', 'member_name', 'enrollment_date',\n",
       "       'unenrollment_date', 'tarrif_risk_cell', 'observation_score',\n",
       "       'last_observation_date', 'encounter_concept_id',\n",
       "       'observation_concept_id', 'major_segment', 'minor_segment',\n",
       "       'epg_risk_score', 'risk_from_date', 'risk_to_date', 'summary_markdown',\n",
       "       'last_admission_date', 'last_discharge_date', 'length_of_stay',\n",
       "       'attributed_start_date', 'attributed_end_date',\n",
       "       'attributed_cut_off_date', 'unenrollment_reason', 'opt_out_value',\n",
       "       'info_type', 'practice_number', 'practice_name', 'discipline_code',\n",
       "       'practice_enrollment_date', 'practice_unenrollment_date',\n",
       "       'practice_active_flag', 'hash_delta', 'no_enrol_after_24_months_flag',\n",
       "       'enrollment_flag', 'unenrolment_flag', 'opt_out_flag',\n",
       "       'attribution_flag', 'exclusions_flag', 'rule__enrol_unerol',\n",
       "       'member_age', 'username', 'tariff_code', 'global_fee'],\n",
       "      dtype='object')"
      ]
     },
     "execution_count": 8,
     "metadata": {},
     "output_type": "execute_result"
    }
   ],
   "source": [
    "master_patient.columns"
   ]
  },
  {
   "cell_type": "code",
   "execution_count": 9,
   "id": "a938fe51",
   "metadata": {},
   "outputs": [
    {
     "data": {
      "text/plain": [
       "information_date                      0\n",
       "recordtype                            0\n",
       "popid                                 0\n",
       "national_id                      128059\n",
       "date_of_birth                         0\n",
       "age_band                             39\n",
       "gender                                0\n",
       "chron_count                        5662\n",
       "plan_type                            52\n",
       "member_number                         0\n",
       "dependent_number                      0\n",
       "member_name                      112519\n",
       "enrollment_date                  112942\n",
       "unenrollment_date                132205\n",
       "tarrif_risk_cell                   5662\n",
       "observation_score                134992\n",
       "last_observation_date            134992\n",
       "encounter_concept_id             134992\n",
       "observation_concept_id           134992\n",
       "major_segment                    128803\n",
       "minor_segment                    128803\n",
       "epg_risk_score                   128913\n",
       "risk_from_date                   128803\n",
       "risk_to_date                     128803\n",
       "summary_markdown                 132171\n",
       "last_admission_date              131917\n",
       "last_discharge_date              131917\n",
       "length_of_stay                   131917\n",
       "attributed_start_date              5662\n",
       "attributed_end_date                5662\n",
       "attributed_cut_off_date            5662\n",
       "unenrollment_reason              133148\n",
       "opt_out_value                         0\n",
       "info_type                             0\n",
       "practice_number                    5362\n",
       "practice_name                     55947\n",
       "discipline_code                   55627\n",
       "practice_enrollment_date          55627\n",
       "practice_unenrollment_date       130470\n",
       "practice_active_flag              55627\n",
       "hash_delta                            0\n",
       "no_enrol_after_24_months_flag         0\n",
       "enrollment_flag                       0\n",
       "unenrolment_flag                      0\n",
       "opt_out_flag                          0\n",
       "attribution_flag                      0\n",
       "exclusions_flag                       0\n",
       "rule__enrol_unerol                    0\n",
       "member_age                            0\n",
       "username                         135227\n",
       "tariff_code                           0\n",
       "global_fee                           99\n",
       "dtype: int64"
      ]
     },
     "execution_count": 9,
     "metadata": {},
     "output_type": "execute_result"
    }
   ],
   "source": [
    "master_patient.isnull().sum()"
   ]
  },
  {
   "cell_type": "code",
   "execution_count": 30,
   "id": "1a5e6df7",
   "metadata": {},
   "outputs": [
    {
     "data": {
      "text/plain": [
       "(135227, 21)"
      ]
     },
     "execution_count": 30,
     "metadata": {},
     "output_type": "execute_result"
    }
   ],
   "source": [
    "# select columns from master_patient to keep in the dataset\n",
    "\n",
    "patient2 = master_patient[['popid', 'date_of_birth', 'age_band', 'gender', 'chron_count', 'plan_type',\n",
    "       'enrollment_date', 'unenrollment_date', 'tarrif_risk_cell', 'major_segment', 'minor_segment',\n",
    "       'epg_risk_score', 'last_admission_date','length_of_stay',\n",
    "       'attributed_start_date', 'practice_number', 'enrollment_flag', 'unenrolment_flag', \n",
    "       'member_age', 'tariff_code', 'global_fee']]\n",
    "\n",
    "patient2.shape"
   ]
  },
  {
   "cell_type": "code",
   "execution_count": 31,
   "id": "1fca3c80",
   "metadata": {},
   "outputs": [
    {
     "data": {
      "text/plain": [
       "Index(['sequencenumber', 'recordtype', 'icc_name', 'provider_name',\n",
       "       'practice_number', 'discipline', 'start_date', 'end_date',\n",
       "       'include_in_query'],\n",
       "      dtype='object')"
      ]
     },
     "metadata": {},
     "output_type": "display_data"
    }
   ],
   "source": [
    "# merge patient2 with the provider file (so we can use the ICC column in the data analysis)\n",
    "\n",
    "provider.rename(columns={col: col.replace(\" \",\"_\").lower() for col in provider.columns},inplace=True)\n",
    "display(provider.columns)\n",
    "merged_df = pd.merge(patient2, provider, on='practice_number', how='left')"
   ]
  },
  {
   "cell_type": "code",
   "execution_count": 32,
   "id": "1c843b31",
   "metadata": {},
   "outputs": [
    {
     "data": {
      "text/plain": [
       "(135227, 29)"
      ]
     },
     "execution_count": 32,
     "metadata": {},
     "output_type": "execute_result"
    }
   ],
   "source": [
    "merged_df.shape"
   ]
  },
  {
   "cell_type": "code",
   "execution_count": 33,
   "id": "404ea2fa",
   "metadata": {},
   "outputs": [
    {
     "data": {
      "text/plain": [
       "Index(['popid', 'date_of_birth', 'age_band', 'gender', 'chron_count',\n",
       "       'plan_type', 'enrollment_date', 'unenrollment_date', 'tarrif_risk_cell',\n",
       "       'major_segment', 'minor_segment', 'epg_risk_score',\n",
       "       'last_admission_date', 'length_of_stay', 'attributed_start_date',\n",
       "       'practice_number', 'enrollment_flag', 'unenrolment_flag', 'member_age',\n",
       "       'tariff_code', 'global_fee', 'sequencenumber', 'recordtype', 'icc_name',\n",
       "       'provider_name', 'discipline', 'start_date', 'end_date',\n",
       "       'include_in_query'],\n",
       "      dtype='object')"
      ]
     },
     "execution_count": 33,
     "metadata": {},
     "output_type": "execute_result"
    }
   ],
   "source": [
    "merged_df.columns"
   ]
  },
  {
   "cell_type": "code",
   "execution_count": 35,
   "id": "d800b102",
   "metadata": {},
   "outputs": [
    {
     "data": {
      "text/plain": [
       "popid                         0\n",
       "date_of_birth                 0\n",
       "age_band                     39\n",
       "gender                        0\n",
       "chron_count                5662\n",
       "plan_type                    52\n",
       "enrollment_date          112942\n",
       "unenrollment_date        132205\n",
       "tarrif_risk_cell           5662\n",
       "major_segment            128803\n",
       "minor_segment            128803\n",
       "epg_risk_score           128913\n",
       "last_admission_date      131917\n",
       "length_of_stay           131917\n",
       "attributed_start_date      5662\n",
       "practice_number            5362\n",
       "enrollment_flag               0\n",
       "unenrolment_flag              0\n",
       "member_age                    0\n",
       "tariff_code                   0\n",
       "global_fee                   99\n",
       "sequencenumber            55627\n",
       "recordtype                55627\n",
       "icc_name                  55627\n",
       "provider_name             55947\n",
       "discipline                55627\n",
       "start_date                55627\n",
       "end_date                 129559\n",
       "include_in_query          55627\n",
       "dtype: int64"
      ]
     },
     "execution_count": 35,
     "metadata": {},
     "output_type": "execute_result"
    }
   ],
   "source": [
    "merged_df.isnull().sum()"
   ]
  },
  {
   "cell_type": "code",
   "execution_count": 36,
   "id": "0bf76e49",
   "metadata": {},
   "outputs": [
    {
     "data": {
      "text/plain": [
       "popid                        0\n",
       "date_of_birth                0\n",
       "age_band                     7\n",
       "gender                       0\n",
       "chron_count                300\n",
       "plan_type                    1\n",
       "enrollment_date          62900\n",
       "unenrollment_date        76805\n",
       "tarrif_risk_cell           300\n",
       "major_segment            73183\n",
       "minor_segment            73183\n",
       "epg_risk_score           73292\n",
       "last_admission_date      76294\n",
       "length_of_stay           76294\n",
       "attributed_start_date      300\n",
       "practice_number              0\n",
       "enrollment_flag              0\n",
       "unenrolment_flag             0\n",
       "member_age                   0\n",
       "tariff_code                  0\n",
       "global_fee                  33\n",
       "sequencenumber               0\n",
       "recordtype                   0\n",
       "icc_name                     0\n",
       "provider_name              320\n",
       "discipline                   0\n",
       "start_date                   0\n",
       "end_date                 73932\n",
       "include_in_query             0\n",
       "dtype: int64"
      ]
     },
     "metadata": {},
     "output_type": "display_data"
    },
    {
     "data": {
      "text/plain": [
       "(79600, 29)"
      ]
     },
     "metadata": {},
     "output_type": "display_data"
    }
   ],
   "source": [
    "# Clean data\n",
    "\n",
    "# Step 1: delete all nulls in \"include_in_query\"column - these patients belong to GPs who never joined the program\n",
    "\n",
    "merged_df.dropna(subset=[\"include_in_query\"],inplace=True)\n",
    "display(merged_df.isnull().sum())\n",
    "display(merged_df.shape)"
   ]
  },
  {
   "cell_type": "code",
   "execution_count": 37,
   "id": "cf21d010",
   "metadata": {},
   "outputs": [
    {
     "data": {
      "text/plain": [
       "popid                        0\n",
       "date_of_birth                0\n",
       "age_band                     7\n",
       "gender                       0\n",
       "chron_count                300\n",
       "plan_type                    1\n",
       "enrollment_date          62900\n",
       "unenrollment_date        76805\n",
       "tarrif_risk_cell           300\n",
       "major_segment            73183\n",
       "minor_segment            73183\n",
       "epg_risk_score           73292\n",
       "last_admission_date      76294\n",
       "length_of_stay           76294\n",
       "attributed_start_date      300\n",
       "practice_number              0\n",
       "enrollment_flag              0\n",
       "unenrolment_flag             0\n",
       "member_age                   0\n",
       "tariff_code                  0\n",
       "global_fee                  33\n",
       "icc_name                     0\n",
       "dtype: int64"
      ]
     },
     "metadata": {},
     "output_type": "display_data"
    },
    {
     "data": {
      "text/plain": [
       "(79600, 22)"
      ]
     },
     "metadata": {},
     "output_type": "display_data"
    }
   ],
   "source": [
    "# delete additional columns from provider file that aren't necessary\n",
    "\n",
    "cols_to_drop = ['sequencenumber', 'recordtype', 'provider_name', 'discipline', 'start_date', 'end_date', 'include_in_query' ]\n",
    "\n",
    "merged_df.drop(columns=cols_to_drop, inplace=True)\n",
    "display(merged_df.isnull().sum())\n",
    "display(merged_df.shape)"
   ]
  },
  {
   "cell_type": "code",
   "execution_count": 15,
   "id": "ce5ff587",
   "metadata": {},
   "outputs": [],
   "source": [
    "# data cleaning plan:\n",
    "\n",
    "#1. delete rows with duplicate popids\n",
    "    \n",
    "#2. deal with null values:\n",
    "    # chronic count: replace with 0\n",
    "    # enrollment_date: replace with NA (these people haven't enrolled)\n",
    "    # unenrollment date: as above\n",
    "    # major_segment: replace with NA - even though lots of nulls still want to keep this info where available\n",
    "    # minor_segment: as above\n",
    "    # epg_risk_score: as above\n",
    "    # risk_from_date: as above\n",
    "    # risk_to_date: as above\n",
    "    # summary_markdown: as above \n",
    "    # last_admission_date: as above\n",
    "    # last_discharge_date: as above\n",
    "    # length_of_stay: as above\n",
    "    # unenrollment_reason: replace with NA (these people haven't unenrolled)\n",
    "    # practice_unenrollment_date: replace with NA (these practices active)\n",
    "    # global_fee: replace with 0\n",
    "    \n",
    "#3. further investigation:\n",
    "    # age-bands\n",
    "    # tariff risk cell\n",
    "    \n",
    "#4. data type fixing\n",
    "    "
   ]
  },
  {
   "cell_type": "code",
   "execution_count": 38,
   "id": "77833ab3",
   "metadata": {},
   "outputs": [
    {
     "data": {
      "text/plain": [
       "94"
      ]
     },
     "execution_count": 38,
     "metadata": {},
     "output_type": "execute_result"
    }
   ],
   "source": [
    "#1. duplicate popids\n",
    "\n",
    "merged_df.duplicated(subset=[\"popid\"]).sum()"
   ]
  },
  {
   "cell_type": "code",
   "execution_count": 40,
   "id": "62b8f50b",
   "metadata": {},
   "outputs": [
    {
     "data": {
      "text/plain": [
       "(79506, 22)"
      ]
     },
     "execution_count": 40,
     "metadata": {},
     "output_type": "execute_result"
    }
   ],
   "source": [
    "merged_df.drop_duplicates(subset=[\"popid\"], inplace=True)\n",
    "merged_df.shape"
   ]
  },
  {
   "cell_type": "code",
   "execution_count": 46,
   "id": "7d5baf92",
   "metadata": {},
   "outputs": [],
   "source": [
    "#2. deal with null values\n",
    "\n",
    "merged_df.fillna({'chron_count': 0}, inplace=True)\n",
    "merged_df.fillna({'plan_type': 'NA'}, inplace=True)\n",
    "merged_df.fillna({'enrollment_date': 'NA'}, inplace=True)\n",
    "merged_df.fillna({'unenrollment_date': 'NA'}, inplace=True)\n",
    "merged_df.fillna({'major_segment': 'NA'}, inplace=True)\n",
    "merged_df.fillna({'minor_segment': 0}, inplace=True)\n",
    "merged_df.fillna({'epg_risk_score': 'NA'}, inplace=True)\n",
    "merged_df.fillna({'last_admission_date': 'NA'}, inplace=True)\n",
    "merged_df.fillna({'length_of_stay': 0}, inplace=True)\n",
    "merged_df.fillna({'attributed_start_date': 'NA'}, inplace=True)\n",
    "merged_df.fillna({'global_fee': 0}, inplace=True)\n",
    "\n",
    "#merged_df.fillna({'age_band': 0}, inplace=True)\n",
    "#merged_df.fillna({'tarrif_risk_cell': 0}, inplace=True)"
   ]
  },
  {
   "cell_type": "code",
   "execution_count": 47,
   "id": "e010604c",
   "metadata": {},
   "outputs": [
    {
     "data": {
      "text/plain": [
       "popid                      0\n",
       "date_of_birth              0\n",
       "age_band                   7\n",
       "gender                     0\n",
       "chron_count                0\n",
       "plan_type                  0\n",
       "enrollment_date            0\n",
       "unenrollment_date          0\n",
       "tarrif_risk_cell         300\n",
       "major_segment              0\n",
       "minor_segment              0\n",
       "epg_risk_score             0\n",
       "last_admission_date        0\n",
       "length_of_stay             0\n",
       "attributed_start_date      0\n",
       "practice_number            0\n",
       "enrollment_flag            0\n",
       "unenrolment_flag           0\n",
       "member_age                 0\n",
       "tariff_code                0\n",
       "global_fee                 0\n",
       "icc_name                   0\n",
       "dtype: int64"
      ]
     },
     "metadata": {},
     "output_type": "display_data"
    }
   ],
   "source": [
    "display(merged_df.isnull().sum())"
   ]
  },
  {
   "cell_type": "code",
   "execution_count": 49,
   "id": "46a2cd94",
   "metadata": {},
   "outputs": [
    {
     "name": "stdout",
     "output_type": "stream",
     "text": [
      "                  popid  date_of_birth  age_band gender chron_count  \\\n",
      "0       GEMS00000000000          35637  25 to 29      F           0   \n",
      "228     GEMS00000279703          34893  25 to 29      M           0   \n",
      "283     GEMS00000355300          16680       NaN      M           0   \n",
      "313     GEMS00000415501          25320  50 to 54      M           0   \n",
      "372     GEMS00000534504          36728  20 to 24      M           0   \n",
      "...                 ...            ...       ...    ...         ...   \n",
      "135216  GEMS73130247501          30638  40 to 44      F           0   \n",
      "135218  GEMS73539666501          37826  20 to 24      F           0   \n",
      "135221  GEMS76517385610          33994  30 to 34      M           0   \n",
      "135222  GEMS76791275901          41024  10 to 14      F           0   \n",
      "135225  GEMS83431707504          43152    5 to 9      F           0   \n",
      "\n",
      "            plan_type enrollment_date unenrollment_date tarrif_risk_cell  \\\n",
      "0       Emerald Value         45099.0                NA              NaN   \n",
      "228           Emerald         43747.0           44118.0              NaN   \n",
      "283           Emerald         44348.0                NA              NaN   \n",
      "313              Onyx         45293.0                NA              NaN   \n",
      "372              Ruby         43973.0                NA              NaN   \n",
      "...               ...             ...               ...              ...   \n",
      "135216        Emerald         45124.0                NA              NaN   \n",
      "135218  Emerald Value         45087.0                NA              NaN   \n",
      "135221  Emerald Value         45223.0                NA              NaN   \n",
      "135222        Emerald         45167.0                NA              NaN   \n",
      "135225        Emerald         44994.0                NA              NaN   \n",
      "\n",
      "       major_segment  ...          last_admission_date length_of_stay  \\\n",
      "0                 NA  ...                           NA            0.0   \n",
      "228               NA  ...                           NA            0.0   \n",
      "283          At Risk  ...  2021-07-20 00:00:00.0000000           12.0   \n",
      "313               NA  ...                           NA            0.0   \n",
      "372               NA  ...                           NA            0.0   \n",
      "...              ...  ...                          ...            ...   \n",
      "135216            NA  ...                           NA            0.0   \n",
      "135218            NA  ...                           NA            0.0   \n",
      "135221            NA  ...                           NA            0.0   \n",
      "135222            NA  ...                           NA            0.0   \n",
      "135225            NA  ...                           NA            0.0   \n",
      "\n",
      "       attributed_start_date  practice_number enrollment_flag  \\\n",
      "0                         NA        1809385.0               Y   \n",
      "228                       NA        1568329.0               N   \n",
      "283                       NA         670693.0               Y   \n",
      "313                       NA         670693.0               Y   \n",
      "372                       NA          33952.0               Y   \n",
      "...                      ...              ...             ...   \n",
      "135216                    NA         670693.0               Y   \n",
      "135218                    NA         670693.0               Y   \n",
      "135221                    NA         670693.0               Y   \n",
      "135222                    NA         670693.0               Y   \n",
      "135225                    NA         670693.0               Y   \n",
      "\n",
      "        unenrolment_flag member_age tariff_code  global_fee  \\\n",
      "0                      N         26      989049      154.02   \n",
      "228                    Y         28      989056      227.86   \n",
      "283                    N         78      989133      109.70   \n",
      "313                    N         54      989094      185.21   \n",
      "372                    N         23      989048       88.92   \n",
      "...                  ...        ...         ...         ...   \n",
      "135216                 N         40      989074      203.89   \n",
      "135218                 N         20      989042      157.03   \n",
      "135221                 N         31      989061      122.35   \n",
      "135222                 N         11      989026      114.61   \n",
      "135225                 N          5      989020      128.69   \n",
      "\n",
      "                  icc_name  \n",
      "0       Pretoria North ICC  \n",
      "228     Pretoria North ICC  \n",
      "283     Pretoria North ICC  \n",
      "313     Pretoria North ICC  \n",
      "372     Pretoria North ICC  \n",
      "...                    ...  \n",
      "135216  Pretoria North ICC  \n",
      "135218  Pretoria North ICC  \n",
      "135221  Pretoria North ICC  \n",
      "135222  Pretoria North ICC  \n",
      "135225  Pretoria North ICC  \n",
      "\n",
      "[300 rows x 22 columns]\n"
     ]
    }
   ],
   "source": [
    "null_rows = merged_df[merged_df['tarrif_risk_cell'].isnull()]\n",
    "print(null_rows)"
   ]
  },
  {
   "cell_type": "code",
   "execution_count": 50,
   "id": "8dd2a9e2",
   "metadata": {},
   "outputs": [
    {
     "data": {
      "text/plain": [
       "popid                     object\n",
       "date_of_birth              int64\n",
       "age_band                  object\n",
       "gender                    object\n",
       "chron_count               object\n",
       "plan_type                 object\n",
       "enrollment_date           object\n",
       "unenrollment_date         object\n",
       "tarrif_risk_cell          object\n",
       "major_segment             object\n",
       "minor_segment             object\n",
       "epg_risk_score            object\n",
       "last_admission_date       object\n",
       "length_of_stay           float64\n",
       "attributed_start_date     object\n",
       "practice_number          float64\n",
       "enrollment_flag           object\n",
       "unenrolment_flag          object\n",
       "member_age                 int64\n",
       "tariff_code                int64\n",
       "global_fee               float64\n",
       "icc_name                  object\n",
       "dtype: object"
      ]
     },
     "execution_count": 50,
     "metadata": {},
     "output_type": "execute_result"
    }
   ],
   "source": [
    "merged_df.dtypes"
   ]
  },
  {
   "cell_type": "code",
   "execution_count": null,
   "id": "82804c0b",
   "metadata": {},
   "outputs": [],
   "source": [
    "# fix the following:\n",
    "\n",
    "# dates - date of birth, enrollment date, unenrollment date, last admission date, attributed start date\n",
    "# chronic count\n",
    "# practice number - convert to int\n"
   ]
  },
  {
   "cell_type": "code",
   "execution_count": 56,
   "id": "8a613102",
   "metadata": {},
   "outputs": [
    {
     "ename": "XLRDError",
     "evalue": "Excel xlsx file; not supported",
     "output_type": "error",
     "traceback": [
      "\u001b[1;31m---------------------------------------------------------------------------\u001b[0m",
      "\u001b[1;31mXLRDError\u001b[0m                                 Traceback (most recent call last)",
      "Cell \u001b[1;32mIn[56], line 7\u001b[0m\n\u001b[0;32m      3\u001b[0m \u001b[38;5;28;01mimport\u001b[39;00m \u001b[38;5;21;01mxlrd\u001b[39;00m\n\u001b[0;32m      5\u001b[0m \u001b[38;5;66;03m# Assuming 'file_path' is the path to your Excel file\u001b[39;00m\n\u001b[0;32m      6\u001b[0m \u001b[38;5;66;03m# Read the Excel file using xlrd\u001b[39;00m\n\u001b[1;32m----> 7\u001b[0m xlrd_df \u001b[38;5;241m=\u001b[39m \u001b[43mpd\u001b[49m\u001b[38;5;241;43m.\u001b[39;49m\u001b[43mread_excel\u001b[49m\u001b[43m(\u001b[49m\u001b[43mfile_path1\u001b[49m\u001b[43m,\u001b[49m\u001b[43m \u001b[49m\u001b[43mengine\u001b[49m\u001b[38;5;241;43m=\u001b[39;49m\u001b[38;5;124;43m'\u001b[39;49m\u001b[38;5;124;43mxlrd\u001b[39;49m\u001b[38;5;124;43m'\u001b[39;49m\u001b[43m)\u001b[49m\n\u001b[0;32m      9\u001b[0m \u001b[38;5;66;03m# Convert integer dates to proper date format\u001b[39;00m\n\u001b[0;32m     10\u001b[0m xlrd_df[\u001b[38;5;124m'\u001b[39m\u001b[38;5;124mdate_of_birth\u001b[39m\u001b[38;5;124m'\u001b[39m] \u001b[38;5;241m=\u001b[39m pd\u001b[38;5;241m.\u001b[39mto_datetime(xlrd_df[\u001b[38;5;124m'\u001b[39m\u001b[38;5;124mdate_of_birth\u001b[39m\u001b[38;5;124m'\u001b[39m], unit\u001b[38;5;241m=\u001b[39m\u001b[38;5;124m'\u001b[39m\u001b[38;5;124mD\u001b[39m\u001b[38;5;124m'\u001b[39m)\n",
      "File \u001b[1;32m~\\OneDrive - PPO Serve\\Documents\\ironhack\\Week 3\\project_1\\project1_environment\\Lib\\site-packages\\pandas\\io\\excel\\_base.py:495\u001b[0m, in \u001b[0;36mread_excel\u001b[1;34m(io, sheet_name, header, names, index_col, usecols, dtype, engine, converters, true_values, false_values, skiprows, nrows, na_values, keep_default_na, na_filter, verbose, parse_dates, date_parser, date_format, thousands, decimal, comment, skipfooter, storage_options, dtype_backend, engine_kwargs)\u001b[0m\n\u001b[0;32m    493\u001b[0m \u001b[38;5;28;01mif\u001b[39;00m \u001b[38;5;129;01mnot\u001b[39;00m \u001b[38;5;28misinstance\u001b[39m(io, ExcelFile):\n\u001b[0;32m    494\u001b[0m     should_close \u001b[38;5;241m=\u001b[39m \u001b[38;5;28;01mTrue\u001b[39;00m\n\u001b[1;32m--> 495\u001b[0m     io \u001b[38;5;241m=\u001b[39m \u001b[43mExcelFile\u001b[49m\u001b[43m(\u001b[49m\n\u001b[0;32m    496\u001b[0m \u001b[43m        \u001b[49m\u001b[43mio\u001b[49m\u001b[43m,\u001b[49m\n\u001b[0;32m    497\u001b[0m \u001b[43m        \u001b[49m\u001b[43mstorage_options\u001b[49m\u001b[38;5;241;43m=\u001b[39;49m\u001b[43mstorage_options\u001b[49m\u001b[43m,\u001b[49m\n\u001b[0;32m    498\u001b[0m \u001b[43m        \u001b[49m\u001b[43mengine\u001b[49m\u001b[38;5;241;43m=\u001b[39;49m\u001b[43mengine\u001b[49m\u001b[43m,\u001b[49m\n\u001b[0;32m    499\u001b[0m \u001b[43m        \u001b[49m\u001b[43mengine_kwargs\u001b[49m\u001b[38;5;241;43m=\u001b[39;49m\u001b[43mengine_kwargs\u001b[49m\u001b[43m,\u001b[49m\n\u001b[0;32m    500\u001b[0m \u001b[43m    \u001b[49m\u001b[43m)\u001b[49m\n\u001b[0;32m    501\u001b[0m \u001b[38;5;28;01melif\u001b[39;00m engine \u001b[38;5;129;01mand\u001b[39;00m engine \u001b[38;5;241m!=\u001b[39m io\u001b[38;5;241m.\u001b[39mengine:\n\u001b[0;32m    502\u001b[0m     \u001b[38;5;28;01mraise\u001b[39;00m \u001b[38;5;167;01mValueError\u001b[39;00m(\n\u001b[0;32m    503\u001b[0m         \u001b[38;5;124m\"\u001b[39m\u001b[38;5;124mEngine should not be specified when passing \u001b[39m\u001b[38;5;124m\"\u001b[39m\n\u001b[0;32m    504\u001b[0m         \u001b[38;5;124m\"\u001b[39m\u001b[38;5;124man ExcelFile - ExcelFile already has the engine set\u001b[39m\u001b[38;5;124m\"\u001b[39m\n\u001b[0;32m    505\u001b[0m     )\n",
      "File \u001b[1;32m~\\OneDrive - PPO Serve\\Documents\\ironhack\\Week 3\\project_1\\project1_environment\\Lib\\site-packages\\pandas\\io\\excel\\_base.py:1567\u001b[0m, in \u001b[0;36mExcelFile.__init__\u001b[1;34m(self, path_or_buffer, engine, storage_options, engine_kwargs)\u001b[0m\n\u001b[0;32m   1564\u001b[0m \u001b[38;5;28mself\u001b[39m\u001b[38;5;241m.\u001b[39mengine \u001b[38;5;241m=\u001b[39m engine\n\u001b[0;32m   1565\u001b[0m \u001b[38;5;28mself\u001b[39m\u001b[38;5;241m.\u001b[39mstorage_options \u001b[38;5;241m=\u001b[39m storage_options\n\u001b[1;32m-> 1567\u001b[0m \u001b[38;5;28mself\u001b[39m\u001b[38;5;241m.\u001b[39m_reader \u001b[38;5;241m=\u001b[39m \u001b[38;5;28;43mself\u001b[39;49m\u001b[38;5;241;43m.\u001b[39;49m\u001b[43m_engines\u001b[49m\u001b[43m[\u001b[49m\u001b[43mengine\u001b[49m\u001b[43m]\u001b[49m\u001b[43m(\u001b[49m\n\u001b[0;32m   1568\u001b[0m \u001b[43m    \u001b[49m\u001b[38;5;28;43mself\u001b[39;49m\u001b[38;5;241;43m.\u001b[39;49m\u001b[43m_io\u001b[49m\u001b[43m,\u001b[49m\n\u001b[0;32m   1569\u001b[0m \u001b[43m    \u001b[49m\u001b[43mstorage_options\u001b[49m\u001b[38;5;241;43m=\u001b[39;49m\u001b[43mstorage_options\u001b[49m\u001b[43m,\u001b[49m\n\u001b[0;32m   1570\u001b[0m \u001b[43m    \u001b[49m\u001b[43mengine_kwargs\u001b[49m\u001b[38;5;241;43m=\u001b[39;49m\u001b[43mengine_kwargs\u001b[49m\u001b[43m,\u001b[49m\n\u001b[0;32m   1571\u001b[0m \u001b[43m\u001b[49m\u001b[43m)\u001b[49m\n",
      "File \u001b[1;32m~\\OneDrive - PPO Serve\\Documents\\ironhack\\Week 3\\project_1\\project1_environment\\Lib\\site-packages\\pandas\\io\\excel\\_xlrd.py:46\u001b[0m, in \u001b[0;36mXlrdReader.__init__\u001b[1;34m(self, filepath_or_buffer, storage_options, engine_kwargs)\u001b[0m\n\u001b[0;32m     44\u001b[0m err_msg \u001b[38;5;241m=\u001b[39m \u001b[38;5;124m\"\u001b[39m\u001b[38;5;124mInstall xlrd >= 2.0.1 for xls Excel support\u001b[39m\u001b[38;5;124m\"\u001b[39m\n\u001b[0;32m     45\u001b[0m import_optional_dependency(\u001b[38;5;124m\"\u001b[39m\u001b[38;5;124mxlrd\u001b[39m\u001b[38;5;124m\"\u001b[39m, extra\u001b[38;5;241m=\u001b[39merr_msg)\n\u001b[1;32m---> 46\u001b[0m \u001b[38;5;28;43msuper\u001b[39;49m\u001b[43m(\u001b[49m\u001b[43m)\u001b[49m\u001b[38;5;241;43m.\u001b[39;49m\u001b[38;5;21;43m__init__\u001b[39;49m\u001b[43m(\u001b[49m\n\u001b[0;32m     47\u001b[0m \u001b[43m    \u001b[49m\u001b[43mfilepath_or_buffer\u001b[49m\u001b[43m,\u001b[49m\n\u001b[0;32m     48\u001b[0m \u001b[43m    \u001b[49m\u001b[43mstorage_options\u001b[49m\u001b[38;5;241;43m=\u001b[39;49m\u001b[43mstorage_options\u001b[49m\u001b[43m,\u001b[49m\n\u001b[0;32m     49\u001b[0m \u001b[43m    \u001b[49m\u001b[43mengine_kwargs\u001b[49m\u001b[38;5;241;43m=\u001b[39;49m\u001b[43mengine_kwargs\u001b[49m\u001b[43m,\u001b[49m\n\u001b[0;32m     50\u001b[0m \u001b[43m\u001b[49m\u001b[43m)\u001b[49m\n",
      "File \u001b[1;32m~\\OneDrive - PPO Serve\\Documents\\ironhack\\Week 3\\project_1\\project1_environment\\Lib\\site-packages\\pandas\\io\\excel\\_base.py:573\u001b[0m, in \u001b[0;36mBaseExcelReader.__init__\u001b[1;34m(self, filepath_or_buffer, storage_options, engine_kwargs)\u001b[0m\n\u001b[0;32m    571\u001b[0m \u001b[38;5;28mself\u001b[39m\u001b[38;5;241m.\u001b[39mhandles\u001b[38;5;241m.\u001b[39mhandle\u001b[38;5;241m.\u001b[39mseek(\u001b[38;5;241m0\u001b[39m)\n\u001b[0;32m    572\u001b[0m \u001b[38;5;28;01mtry\u001b[39;00m:\n\u001b[1;32m--> 573\u001b[0m     \u001b[38;5;28mself\u001b[39m\u001b[38;5;241m.\u001b[39mbook \u001b[38;5;241m=\u001b[39m \u001b[38;5;28;43mself\u001b[39;49m\u001b[38;5;241;43m.\u001b[39;49m\u001b[43mload_workbook\u001b[49m\u001b[43m(\u001b[49m\u001b[38;5;28;43mself\u001b[39;49m\u001b[38;5;241;43m.\u001b[39;49m\u001b[43mhandles\u001b[49m\u001b[38;5;241;43m.\u001b[39;49m\u001b[43mhandle\u001b[49m\u001b[43m,\u001b[49m\u001b[43m \u001b[49m\u001b[43mengine_kwargs\u001b[49m\u001b[43m)\u001b[49m\n\u001b[0;32m    574\u001b[0m \u001b[38;5;28;01mexcept\u001b[39;00m \u001b[38;5;167;01mException\u001b[39;00m:\n\u001b[0;32m    575\u001b[0m     \u001b[38;5;28mself\u001b[39m\u001b[38;5;241m.\u001b[39mclose()\n",
      "File \u001b[1;32m~\\OneDrive - PPO Serve\\Documents\\ironhack\\Week 3\\project_1\\project1_environment\\Lib\\site-packages\\pandas\\io\\excel\\_xlrd.py:63\u001b[0m, in \u001b[0;36mXlrdReader.load_workbook\u001b[1;34m(self, filepath_or_buffer, engine_kwargs)\u001b[0m\n\u001b[0;32m     61\u001b[0m \u001b[38;5;28;01mif\u001b[39;00m \u001b[38;5;28mhasattr\u001b[39m(filepath_or_buffer, \u001b[38;5;124m\"\u001b[39m\u001b[38;5;124mread\u001b[39m\u001b[38;5;124m\"\u001b[39m):\n\u001b[0;32m     62\u001b[0m     data \u001b[38;5;241m=\u001b[39m filepath_or_buffer\u001b[38;5;241m.\u001b[39mread()\n\u001b[1;32m---> 63\u001b[0m     \u001b[38;5;28;01mreturn\u001b[39;00m \u001b[43mopen_workbook\u001b[49m\u001b[43m(\u001b[49m\u001b[43mfile_contents\u001b[49m\u001b[38;5;241;43m=\u001b[39;49m\u001b[43mdata\u001b[49m\u001b[43m,\u001b[49m\u001b[43m \u001b[49m\u001b[38;5;241;43m*\u001b[39;49m\u001b[38;5;241;43m*\u001b[39;49m\u001b[43mengine_kwargs\u001b[49m\u001b[43m)\u001b[49m\n\u001b[0;32m     64\u001b[0m \u001b[38;5;28;01melse\u001b[39;00m:\n\u001b[0;32m     65\u001b[0m     \u001b[38;5;28;01mreturn\u001b[39;00m open_workbook(filepath_or_buffer, \u001b[38;5;241m*\u001b[39m\u001b[38;5;241m*\u001b[39mengine_kwargs)\n",
      "File \u001b[1;32m~\\OneDrive - PPO Serve\\Documents\\ironhack\\Week 3\\project_1\\project1_environment\\Lib\\site-packages\\xlrd\\__init__.py:170\u001b[0m, in \u001b[0;36mopen_workbook\u001b[1;34m(filename, logfile, verbosity, use_mmap, file_contents, encoding_override, formatting_info, on_demand, ragged_rows, ignore_workbook_corruption)\u001b[0m\n\u001b[0;32m    167\u001b[0m \u001b[38;5;66;03m# We have to let unknown file formats pass through here, as some ancient\u001b[39;00m\n\u001b[0;32m    168\u001b[0m \u001b[38;5;66;03m# files that xlrd can parse don't start with the expected signature.\u001b[39;00m\n\u001b[0;32m    169\u001b[0m \u001b[38;5;28;01mif\u001b[39;00m file_format \u001b[38;5;129;01mand\u001b[39;00m file_format \u001b[38;5;241m!=\u001b[39m \u001b[38;5;124m'\u001b[39m\u001b[38;5;124mxls\u001b[39m\u001b[38;5;124m'\u001b[39m:\n\u001b[1;32m--> 170\u001b[0m     \u001b[38;5;28;01mraise\u001b[39;00m XLRDError(FILE_FORMAT_DESCRIPTIONS[file_format]\u001b[38;5;241m+\u001b[39m\u001b[38;5;124m'\u001b[39m\u001b[38;5;124m; not supported\u001b[39m\u001b[38;5;124m'\u001b[39m)\n\u001b[0;32m    172\u001b[0m bk \u001b[38;5;241m=\u001b[39m open_workbook_xls(\n\u001b[0;32m    173\u001b[0m     filename\u001b[38;5;241m=\u001b[39mfilename,\n\u001b[0;32m    174\u001b[0m     logfile\u001b[38;5;241m=\u001b[39mlogfile,\n\u001b[1;32m   (...)\u001b[0m\n\u001b[0;32m    182\u001b[0m     ignore_workbook_corruption\u001b[38;5;241m=\u001b[39mignore_workbook_corruption,\n\u001b[0;32m    183\u001b[0m )\n\u001b[0;32m    185\u001b[0m \u001b[38;5;28;01mreturn\u001b[39;00m bk\n",
      "\u001b[1;31mXLRDError\u001b[0m: Excel xlsx file; not supported"
     ]
    }
   ],
   "source": [
    "# dates\n",
    "\n",
    "import xlrd\n",
    "\n",
    "# Assuming 'file_path' is the path to your Excel file\n",
    "# Read the Excel file using xlrd\n",
    "xlrd_df = pd.read_excel(file_path1, engine='xlrd')\n",
    "\n",
    "# Convert integer dates to proper date format\n",
    "xlrd_df['date_of_birth'] = pd.to_datetime(xlrd_df['date_of_birth'], unit='D')\n",
    "\n",
    "# Display the DataFrame with proper date format\n",
    "print(xlrd_df)"
   ]
  },
  {
   "cell_type": "code",
   "execution_count": null,
   "id": "cdf74ace",
   "metadata": {},
   "outputs": [],
   "source": []
  }
 ],
 "metadata": {
  "kernelspec": {
   "display_name": "project1_environment",
   "language": "python",
   "name": "project1_environment"
  },
  "language_info": {
   "codemirror_mode": {
    "name": "ipython",
    "version": 3
   },
   "file_extension": ".py",
   "mimetype": "text/x-python",
   "name": "python",
   "nbconvert_exporter": "python",
   "pygments_lexer": "ipython3",
   "version": "3.11.5"
  }
 },
 "nbformat": 4,
 "nbformat_minor": 5
}

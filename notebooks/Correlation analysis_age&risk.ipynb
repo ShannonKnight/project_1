{
 "cells": [
  {
   "cell_type": "code",
   "execution_count": 45,
   "id": "496053a5",
   "metadata": {},
   "outputs": [
    {
     "data": {
      "image/png": "[encoded data removed]",
      "text/plain": [
       "<Figure size 1000x100 with 1 Axes>"
      ]
     },
     "metadata": {},
     "output_type": "display_data"
    }
   ],
   "source": [
    "import pandas as pd\n",
    "import seaborn as sns\n",
    "import matplotlib.pyplot as plt\n",
    "import scipy as sp\n",
    "import numpy as np\n",
    "\n",
    "pd.set_option('display.max_colwidth', 100)\n",
    "\n",
    "qualitative_colors = sns.color_palette(\"Set3\", 10)\n",
    "sns.palplot(qualitative_colors)\n",
    "\n",
    "path1 = \"../data/cleaned/final_patient_df.xlsx\"\n",
    "#path1 = r\"C:\\Users\\ShannonKnight\\OneDrive - PPO Serve\\Documents\\ironhack\\Week 3\\project_1\\data\\cleaned\\final_patient_df.xlsx\"\n",
    "\n",
    "patient_df = pd.read_excel(path1, na_values='NA')"
   ]
  },
  {
   "cell_type": "code",
   "execution_count": 51,
   "id": "23eb5e3f",
   "metadata": {},
   "outputs": [],
   "source": [
    "age_groups = {\n",
    "    '0-4': ['0', 'Less than 1', '1 to 4'],\n",
    "    '5-19': ['5 to 9', '10 to 14', '15 to 19'],\n",
    "    '20-39': ['20 to 24', '25 to 29', '30 to 34', '35 to 39'],\n",
    "    '40-59': ['40 to 44', '45 to 49', '50 to 54', '55 to 59'],\n",
    "    '60+': ['60 to 64', '65 to 69', '70 to 74', '75 to 79', '80+']\n",
    "}\n",
    "\n",
    "age_mapping = {\n",
    "    '0': '0-4', 'Less than 1': '0-4', '1 to 4': '0-4',\n",
    "    '5 to 9': '5-19', '10 to 14': '5-19', '15 to 19': '5-19',\n",
    "    '20 to 24': '20-39', '25 to 29': '20-39', '30 to 34': '20-39', '35 to 39': '20-39',\n",
    "    '40 to 44': '40-59', '45 to 49': '40-59', '50 to 54': '40-59', '55 to 59': '40-59',\n",
    "    '60 to 64': '60+', '65 to 69': '60+', '70 to 74': '60+', '75 to 79': '60+', '80+': '60+'\n",
    "}\n",
    "\n",
    "# Map age bands to age groups and add as a new column to the original DataFrame\n",
    "patient_df['age_group'] = patient_df['age_band'].map(age_mapping)"
   ]
  },
  {
   "cell_type": "code",
   "execution_count": 52,
   "id": "d25920ad",
   "metadata": {},
   "outputs": [
    {
     "data": {
      "text/html": [
       "<div>\n",
       "<style scoped>\n",
       "    .dataframe tbody tr th:only-of-type {\n",
       "        vertical-align: middle;\n",
       "    }\n",
       "\n",
       "    .dataframe tbody tr th {\n",
       "        vertical-align: top;\n",
       "    }\n",
       "\n",
       "    .dataframe thead th {\n",
       "        text-align: right;\n",
       "    }\n",
       "</style>\n",
       "<table border=\"1\" class=\"dataframe\">\n",
       "  <thead>\n",
       "    <tr style=\"text-align: right;\">\n",
       "      <th></th>\n",
       "      <th>date_of_birth</th>\n",
       "      <th>age_band</th>\n",
       "      <th>gender</th>\n",
       "      <th>chron_count</th>\n",
       "      <th>plan_type</th>\n",
       "      <th>enrollment_date</th>\n",
       "      <th>unenrollment_date</th>\n",
       "      <th>tarrif_risk_cell</th>\n",
       "      <th>major_segment</th>\n",
       "      <th>minor_segment</th>\n",
       "      <th>...</th>\n",
       "      <th>enrollment_flag</th>\n",
       "      <th>unenrolment_flag</th>\n",
       "      <th>member_age</th>\n",
       "      <th>tariff_code</th>\n",
       "      <th>global_fee</th>\n",
       "      <th>icc_name</th>\n",
       "      <th>anonymised_popid</th>\n",
       "      <th>anonymised_practice_number</th>\n",
       "      <th>age_group_index</th>\n",
       "      <th>age_group</th>\n",
       "    </tr>\n",
       "  </thead>\n",
       "  <tbody>\n",
       "    <tr>\n",
       "      <th>0</th>\n",
       "      <td>1997-07-26</td>\n",
       "      <td>25 to 29</td>\n",
       "      <td>F</td>\n",
       "      <td>0</td>\n",
       "      <td>Emerald Value</td>\n",
       "      <td>2023-06-22 00:00:00</td>\n",
       "      <td>0</td>\n",
       "      <td>not known</td>\n",
       "      <td>not known</td>\n",
       "      <td>not known</td>\n",
       "      <td>...</td>\n",
       "      <td>Y</td>\n",
       "      <td>N</td>\n",
       "      <td>26</td>\n",
       "      <td>989049</td>\n",
       "      <td>154.02</td>\n",
       "      <td>Pretoria North ICC</td>\n",
       "      <td>GEMS00000000000</td>\n",
       "      <td>ah0iche</td>\n",
       "      <td>3.0</td>\n",
       "      <td>20-39</td>\n",
       "    </tr>\n",
       "    <tr>\n",
       "      <th>1</th>\n",
       "      <td>1979-06-10</td>\n",
       "      <td>40 to 44</td>\n",
       "      <td>M</td>\n",
       "      <td>2</td>\n",
       "      <td>Emerald Value</td>\n",
       "      <td>2020-01-10 00:00:00</td>\n",
       "      <td>2021-05-21 00:00:00</td>\n",
       "      <td>40 to 44M2Emerald Value</td>\n",
       "      <td>Sig Condition</td>\n",
       "      <td>Significant condition</td>\n",
       "      <td>...</td>\n",
       "      <td>N</td>\n",
       "      <td>Y</td>\n",
       "      <td>44</td>\n",
       "      <td>989077</td>\n",
       "      <td>114.47</td>\n",
       "      <td>Pretoria North ICC</td>\n",
       "      <td>GEMS000000baa00</td>\n",
       "      <td>ccieb</td>\n",
       "      <td>4.0</td>\n",
       "      <td>40-59</td>\n",
       "    </tr>\n",
       "    <tr>\n",
       "      <th>2</th>\n",
       "      <td>1946-06-07</td>\n",
       "      <td>70 to 74</td>\n",
       "      <td>F</td>\n",
       "      <td>1</td>\n",
       "      <td>Emerald Value</td>\n",
       "      <td>2019-11-26 00:00:00</td>\n",
       "      <td>2023-02-09 00:00:00</td>\n",
       "      <td>70 to 74F1Emerald Value</td>\n",
       "      <td>At Risk</td>\n",
       "      <td>Lifestyle chronic</td>\n",
       "      <td>...</td>\n",
       "      <td>N</td>\n",
       "      <td>Y</td>\n",
       "      <td>77</td>\n",
       "      <td>989132</td>\n",
       "      <td>162.93</td>\n",
       "      <td>Pretoria North ICC</td>\n",
       "      <td>GEMS000000baa0e</td>\n",
       "      <td>ccieb</td>\n",
       "      <td>5.0</td>\n",
       "      <td>60+</td>\n",
       "    </tr>\n",
       "    <tr>\n",
       "      <th>3</th>\n",
       "      <td>1962-04-20</td>\n",
       "      <td>60 to 64</td>\n",
       "      <td>F</td>\n",
       "      <td>2</td>\n",
       "      <td>Emerald</td>\n",
       "      <td>2019-11-08 00:00:00</td>\n",
       "      <td>0</td>\n",
       "      <td>60 to 64F2Emerald</td>\n",
       "      <td>At Risk</td>\n",
       "      <td>Non-life-threatening chronic</td>\n",
       "      <td>...</td>\n",
       "      <td>Y</td>\n",
       "      <td>N</td>\n",
       "      <td>61</td>\n",
       "      <td>989105</td>\n",
       "      <td>131.43</td>\n",
       "      <td>Pretoria North ICC</td>\n",
       "      <td>GEMS000000bcc00</td>\n",
       "      <td>fg0fic</td>\n",
       "      <td>5.0</td>\n",
       "      <td>60+</td>\n",
       "    </tr>\n",
       "    <tr>\n",
       "      <th>4</th>\n",
       "      <td>1970-04-06</td>\n",
       "      <td>50 to 54</td>\n",
       "      <td>F</td>\n",
       "      <td>2</td>\n",
       "      <td>Emerald</td>\n",
       "      <td>0</td>\n",
       "      <td>0</td>\n",
       "      <td>50 to 54F2Emerald</td>\n",
       "      <td>not known</td>\n",
       "      <td>not known</td>\n",
       "      <td>...</td>\n",
       "      <td>N</td>\n",
       "      <td>N</td>\n",
       "      <td>53</td>\n",
       "      <td>989089</td>\n",
       "      <td>149.90</td>\n",
       "      <td>Pretoria Central West</td>\n",
       "      <td>GEMS000000bdh00</td>\n",
       "      <td>adigdba</td>\n",
       "      <td>4.0</td>\n",
       "      <td>40-59</td>\n",
       "    </tr>\n",
       "  </tbody>\n",
       "</table>\n",
       "<p>5 rows × 23 columns</p>\n",
       "</div>"
      ],
      "text/plain": [
       "  date_of_birth  age_band gender  chron_count      plan_type  \\\n",
       "0    1997-07-26  25 to 29      F            0  Emerald Value   \n",
       "1    1979-06-10  40 to 44      M            2  Emerald Value   \n",
       "2    1946-06-07  70 to 74      F            1  Emerald Value   \n",
       "3    1962-04-20  60 to 64      F            2        Emerald   \n",
       "4    1970-04-06  50 to 54      F            2        Emerald   \n",
       "\n",
       "       enrollment_date    unenrollment_date         tarrif_risk_cell  \\\n",
       "0  2023-06-22 00:00:00                    0                not known   \n",
       "1  2020-01-10 00:00:00  2021-05-21 00:00:00  40 to 44M2Emerald Value   \n",
       "2  2019-11-26 00:00:00  2023-02-09 00:00:00  70 to 74F1Emerald Value   \n",
       "3  2019-11-08 00:00:00                    0        60 to 64F2Emerald   \n",
       "4                    0                    0        50 to 54F2Emerald   \n",
       "\n",
       "   major_segment                 minor_segment  ...  enrollment_flag  \\\n",
       "0      not known                     not known  ...                Y   \n",
       "1  Sig Condition         Significant condition  ...                N   \n",
       "2        At Risk             Lifestyle chronic  ...                N   \n",
       "3        At Risk  Non-life-threatening chronic  ...                Y   \n",
       "4      not known                     not known  ...                N   \n",
       "\n",
       "   unenrolment_flag member_age tariff_code global_fee               icc_name  \\\n",
       "0                 N         26      989049     154.02     Pretoria North ICC   \n",
       "1                 Y         44      989077     114.47     Pretoria North ICC   \n",
       "2                 Y         77      989132     162.93     Pretoria North ICC   \n",
       "3                 N         61      989105     131.43     Pretoria North ICC   \n",
       "4                 N         53      989089     149.90  Pretoria Central West   \n",
       "\n",
       "   anonymised_popid  anonymised_practice_number age_group_index age_group  \n",
       "0   GEMS00000000000                     ah0iche             3.0     20-39  \n",
       "1   GEMS000000baa00                       ccieb             4.0     40-59  \n",
       "2   GEMS000000baa0e                       ccieb             5.0       60+  \n",
       "3   GEMS000000bcc00                      fg0fic             5.0       60+  \n",
       "4   GEMS000000bdh00                     adigdba             4.0     40-59  \n",
       "\n",
       "[5 rows x 23 columns]"
      ]
     },
     "execution_count": 52,
     "metadata": {},
     "output_type": "execute_result"
    }
   ],
   "source": [
    "patient_df.head()"
   ]
  },
  {
   "cell_type": "code",
   "execution_count": 65,
   "id": "37a19f3e",
   "metadata": {},
   "outputs": [
    {
     "data": {
      "text/plain": [
       "major_segment\n",
       "not known               73139\n",
       "Healthy                  2643\n",
       "Sig Condition            1612\n",
       "At Risk                  1582\n",
       "High risk                 363\n",
       "Not active on scheme      108\n",
       "Maternity                  59\n",
       "Name: count, dtype: int64"
      ]
     },
     "execution_count": 65,
     "metadata": {},
     "output_type": "execute_result"
    }
   ],
   "source": [
    "patient_df.major_segment.value_counts()"
   ]
  },
  {
   "cell_type": "code",
   "execution_count": 72,
   "id": "be2c4ccb",
   "metadata": {},
   "outputs": [
    {
     "name": "stdout",
     "output_type": "stream",
     "text": [
      "<class 'pandas.core.frame.DataFrame'>\n",
      "RangeIndex: 79506 entries, 0 to 79505\n",
      "Data columns (total 23 columns):\n",
      " #   Column                      Non-Null Count  Dtype         \n",
      "---  ------                      --------------  -----         \n",
      " 0   date_of_birth               79506 non-null  datetime64[ns]\n",
      " 1   age_band                    79506 non-null  object        \n",
      " 2   gender                      79506 non-null  object        \n",
      " 3   chron_count                 79506 non-null  int64         \n",
      " 4   plan_type                   79506 non-null  object        \n",
      " 5   enrollment_date             79506 non-null  object        \n",
      " 6   unenrollment_date           79506 non-null  object        \n",
      " 7   tarrif_risk_cell            79506 non-null  object        \n",
      " 8   major_segment               79506 non-null  object        \n",
      " 9   minor_segment               79506 non-null  object        \n",
      " 10  last_admission_date         79506 non-null  int64         \n",
      " 11  length_of_stay              79506 non-null  int64         \n",
      " 12  attributed_start_date       79506 non-null  object        \n",
      " 13  enrollment_flag             79506 non-null  object        \n",
      " 14  unenrolment_flag            79506 non-null  object        \n",
      " 15  member_age                  79506 non-null  int64         \n",
      " 16  tariff_code                 79506 non-null  int64         \n",
      " 17  global_fee                  79506 non-null  float64       \n",
      " 18  icc_name                    79506 non-null  object        \n",
      " 19  anonymised_popid            79506 non-null  object        \n",
      " 20  anonymised_practice_number  79506 non-null  object        \n",
      " 21  age_group_index             79499 non-null  float64       \n",
      " 22  age_group                   79499 non-null  object        \n",
      "dtypes: datetime64[ns](1), float64(2), int64(5), object(15)\n",
      "memory usage: 14.0+ MB\n"
     ]
    }
   ],
   "source": [
    "patient_df.info()"
   ]
  },
  {
   "cell_type": "code",
   "execution_count": 66,
   "id": "c4e4e979",
   "metadata": {},
   "outputs": [],
   "source": [
    "from scipy.stats import chi2"
   ]
  },
  {
   "cell_type": "code",
   "execution_count": 75,
   "id": "0d7b914c",
   "metadata": {},
   "outputs": [
    {
     "name": "stdout",
     "output_type": "stream",
     "text": [
      "Spearman's correlation coefficient: 0.547\n"
     ]
    },
    {
     "data": {
      "text/plain": [
       "(6258, 26)"
      ]
     },
     "execution_count": 75,
     "metadata": {},
     "output_type": "execute_result"
    }
   ],
   "source": [
    "from scipy.stats import spearmanr\n",
    "\n",
    "filtered_risk_df.dropna(inplace=True)\n",
    "\n",
    "age_group_mapping = {'0-4': 1, '5-19': 2, '20-39': 3, '40-59': 4, '60+': 5}\n",
    "risk_level_mapping = {'Healthy': 1, 'At Risk': 2, 'Maternity': 3, 'Sig Condition': 4, 'High risk': 5}\n",
    "\n",
    "# Map categorical values to numerical values\n",
    "filtered_risk_df['age_group_mapped'] = filtered_risk_df['age_group'].map(age_group_mapping)\n",
    "filtered_risk_df['risk_level_mapped'] = filtered_risk_df['major_segment'].map(risk_level_mapping)\n",
    "\n",
    "# Calculate Spearman's correlation coefficient\n",
    "correlation_coefficient, p_value = spearmanr(filtered_risk_df['age_group_mapped'], filtered_risk_df['risk_level_mapped'])\n",
    "\n",
    "print(\"Spearman's correlation coefficient:\", round(correlation_coefficient,3))\n",
    "filtered_risk_df.shape"
   ]
  },
  {
   "cell_type": "code",
   "execution_count": 68,
   "id": "8671e95c",
   "metadata": {},
   "outputs": [
    {
     "data": {
      "text/plain": [
       "<Axes: title={'center': 'Scatter Plot'}, xlabel='age_group_mapped', ylabel='risk_level_mapped'>"
      ]
     },
     "execution_count": 68,
     "metadata": {},
     "output_type": "execute_result"
    },
    {
     "data": {
      "image/png": "[encoded data removed]",
      "text/plain": [
       "<Figure size 640x480 with 1 Axes>"
      ]
     },
     "metadata": {},
     "output_type": "display_data"
    }
   ],
   "source": [
    "filtered_risk_df.plot(kind='scatter', x='age_group_mapped', y='risk_level_mapped', title='Scatter Plot')"
   ]
  },
  {
   "cell_type": "code",
   "execution_count": 70,
   "id": "9aba10ba",
   "metadata": {},
   "outputs": [
    {
     "data": {
      "text/html": [
       "<div>\n",
       "<style scoped>\n",
       "    .dataframe tbody tr th:only-of-type {\n",
       "        vertical-align: middle;\n",
       "    }\n",
       "\n",
       "    .dataframe tbody tr th {\n",
       "        vertical-align: top;\n",
       "    }\n",
       "\n",
       "    .dataframe thead tr th {\n",
       "        text-align: left;\n",
       "    }\n",
       "\n",
       "    .dataframe thead tr:last-of-type th {\n",
       "        text-align: right;\n",
       "    }\n",
       "</style>\n",
       "<table border=\"1\" class=\"dataframe\">\n",
       "  <thead>\n",
       "    <tr>\n",
       "      <th></th>\n",
       "      <th colspan=\"5\" halign=\"left\">member_age</th>\n",
       "    </tr>\n",
       "    <tr>\n",
       "      <th>age_group_mapped</th>\n",
       "      <th>1</th>\n",
       "      <th>2</th>\n",
       "      <th>3</th>\n",
       "      <th>4</th>\n",
       "      <th>5</th>\n",
       "    </tr>\n",
       "    <tr>\n",
       "      <th>risk_level_mapped</th>\n",
       "      <th></th>\n",
       "      <th></th>\n",
       "      <th></th>\n",
       "      <th></th>\n",
       "      <th></th>\n",
       "    </tr>\n",
       "  </thead>\n",
       "  <tbody>\n",
       "    <tr>\n",
       "      <th>1</th>\n",
       "      <td>143.0</td>\n",
       "      <td>850.0</td>\n",
       "      <td>829.0</td>\n",
       "      <td>618.0</td>\n",
       "      <td>203.0</td>\n",
       "    </tr>\n",
       "    <tr>\n",
       "      <th>2</th>\n",
       "      <td>35.0</td>\n",
       "      <td>204.0</td>\n",
       "      <td>253.0</td>\n",
       "      <td>563.0</td>\n",
       "      <td>526.0</td>\n",
       "    </tr>\n",
       "    <tr>\n",
       "      <th>3</th>\n",
       "      <td>NaN</td>\n",
       "      <td>NaN</td>\n",
       "      <td>52.0</td>\n",
       "      <td>7.0</td>\n",
       "      <td>NaN</td>\n",
       "    </tr>\n",
       "    <tr>\n",
       "      <th>4</th>\n",
       "      <td>8.0</td>\n",
       "      <td>71.0</td>\n",
       "      <td>156.0</td>\n",
       "      <td>488.0</td>\n",
       "      <td>889.0</td>\n",
       "    </tr>\n",
       "    <tr>\n",
       "      <th>5</th>\n",
       "      <td>NaN</td>\n",
       "      <td>3.0</td>\n",
       "      <td>8.0</td>\n",
       "      <td>94.0</td>\n",
       "      <td>258.0</td>\n",
       "    </tr>\n",
       "  </tbody>\n",
       "</table>\n",
       "</div>"
      ],
      "text/plain": [
       "                  member_age                            \n",
       "age_group_mapped           1      2      3      4      5\n",
       "risk_level_mapped                                       \n",
       "1                      143.0  850.0  829.0  618.0  203.0\n",
       "2                       35.0  204.0  253.0  563.0  526.0\n",
       "3                        NaN    NaN   52.0    7.0    NaN\n",
       "4                        8.0   71.0  156.0  488.0  889.0\n",
       "5                        NaN    3.0    8.0   94.0  258.0"
      ]
     },
     "execution_count": 70,
     "metadata": {},
     "output_type": "execute_result"
    }
   ],
   "source": [
    "pivot_df = filtered_risk_df.pivot_table(index='risk_level_mapped', columns='age_group_mapped', values=['member_age'], aggfunc='count')\n",
    "pivot_df"
   ]
  },
  {
   "cell_type": "code",
   "execution_count": null,
   "id": "fc0239e4",
   "metadata": {},
   "outputs": [],
   "source": []
  }
 ],
 "metadata": {
  "kernelspec": {
   "display_name": "project1_environment",
   "language": "python",
   "name": "project1_environment"
  },
  "language_info": {
   "codemirror_mode": {
    "name": "ipython",
    "version": 3
   },
   "file_extension": ".py",
   "mimetype": "text/x-python",
   "name": "python",
   "nbconvert_exporter": "python",
   "pygments_lexer": "ipython3",
   "version": "3.11.5"
  }
 },
 "nbformat": 4,
 "nbformat_minor": 5
}
